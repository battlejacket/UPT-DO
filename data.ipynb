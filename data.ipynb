{
 "cells": [
  {
   "cell_type": "code",
   "execution_count": 5,
   "metadata": {},
   "outputs": [],
   "source": [
    "import torch\n",
    "import matplotlib.pyplot as plt"
   ]
  },
  {
   "cell_type": "code",
   "execution_count": 24,
   "metadata": {},
   "outputs": [],
   "source": [
    "# Load tensor data\n",
    "directory = './data/shapenet_car/preprocessed/param0/1a0bc9ab92c915167ae33d942430658c/'\n",
    "mesh_tensor = torch.load(directory + 'mesh_points.th')\n",
    "pressure_tensor = torch.load(directory + 'pressure.th')\n",
    "sdf_res32_tensor  = torch.load(directory + 'sdf_res32.th')\n",
    "sdf_res40_tensor  = torch.load(directory + 'sdf_res40.th')\n",
    "sdf_res48_tensor  = torch.load(directory + 'sdf_res48.th')\n",
    "sdf_res64_tensor  = torch.load(directory + 'sdf_res64.th')\n",
    "sdf_res80_tensor  = torch.load(directory + 'sdf_res80.th')\n",
    "\n",
    "# Add data to dict\n",
    "dataDict = {\n",
    "    'mesh': mesh_tensor,\n",
    "    'pressure': pressure_tensor,\n",
    "    'sdf_res32': sdf_res32_tensor \n",
    "}"
   ]
  },
  {
   "cell_type": "code",
   "execution_count": 29,
   "metadata": {},
   "outputs": [
    {
     "name": "stdout",
     "output_type": "stream",
     "text": [
      "tensor([-109.8390,  -49.3971,  -60.5454,  ...,  -32.9838,  -34.9459,\n",
      "         -33.3760])\n"
     ]
    }
   ],
   "source": [
    "print(pressure_tensor)"
   ]
  },
  {
   "cell_type": "code",
   "execution_count": 28,
   "metadata": {},
   "outputs": [],
   "source": [
    "#Save to matlab format\n",
    "import scipy.io as sio\n",
    "\n",
    "saveDir = './data/shapenet_car/mat/'\n",
    "\n",
    "sio.savemat(saveDir + directory.split('/')[-2] + '.mat', dataDict)"
   ]
  },
  {
   "cell_type": "code",
   "execution_count": null,
   "metadata": {},
   "outputs": [],
   "source": [
    "print(directory.split('/')[-2])"
   ]
  },
  {
   "cell_type": "code",
   "execution_count": null,
   "metadata": {},
   "outputs": [
    {
     "ename": "TypeError",
     "evalue": "'int' object is not iterable",
     "output_type": "error",
     "traceback": [
      "\u001b[0;31m---------------------------------------------------------------------------\u001b[0m",
      "\u001b[0;31mTypeError\u001b[0m                                 Traceback (most recent call last)",
      "Cell \u001b[0;32mIn[5], line 3\u001b[0m\n\u001b[1;32m      1\u001b[0m batch_idx \u001b[38;5;241m=\u001b[39m []\n\u001b[1;32m      2\u001b[0m \u001b[38;5;28;01mfor\u001b[39;00m i \u001b[38;5;129;01min\u001b[39;00m \u001b[38;5;28mrange\u001b[39m(\u001b[38;5;241m5\u001b[39m):\n\u001b[0;32m----> 3\u001b[0m     batch_idx \u001b[38;5;241m+\u001b[39m\u001b[38;5;241m=\u001b[39m i \u001b[38;5;241m*\u001b[39m \u001b[38;5;241m1\u001b[39m\n",
      "\u001b[0;31mTypeError\u001b[0m: 'int' object is not iterable"
     ]
    }
   ],
   "source": []
  }
 ],
 "metadata": {
  "kernelspec": {
   "display_name": "base",
   "language": "python",
   "name": "python3"
  },
  "language_info": {
   "codemirror_mode": {
    "name": "ipython",
    "version": 3
   },
   "file_extension": ".py",
   "mimetype": "text/x-python",
   "name": "python",
   "nbconvert_exporter": "python",
   "pygments_lexer": "ipython3",
   "version": "3.9.21"
  }
 },
 "nbformat": 4,
 "nbformat_minor": 2
}
