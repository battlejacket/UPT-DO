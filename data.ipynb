{
 "cells": [
  {
   "cell_type": "code",
   "execution_count": 41,
   "metadata": {},
   "outputs": [],
   "source": [
    "import torch\n",
    "import matplotlib.pyplot as plt"
   ]
  },
  {
   "cell_type": "code",
   "execution_count": 42,
   "metadata": {},
   "outputs": [
    {
     "name": "stderr",
     "output_type": "stream",
     "text": [
      "/tmp/ipykernel_1904535/3533123915.py:3: FutureWarning: You are using `torch.load` with `weights_only=False` (the current default value), which uses the default pickle module implicitly. It is possible to construct malicious pickle data which will execute arbitrary code during unpickling (See https://github.com/pytorch/pytorch/blob/main/SECURITY.md#untrusted-models for more details). In a future release, the default value for `weights_only` will be flipped to `True`. This limits the functions that could be executed during unpickling. Arbitrary objects will no longer be allowed to be loaded via this mode unless they are explicitly allowlisted by the user via `torch.serialization.add_safe_globals`. We recommend you start setting `weights_only=True` for any use case where you don't have full control of the loaded file. Please open an issue on GitHub for any issues related to this experimental feature.\n",
      "  mesh_tensor = torch.load(directory + 'mesh_points.th')\n",
      "/tmp/ipykernel_1904535/3533123915.py:4: FutureWarning: You are using `torch.load` with `weights_only=False` (the current default value), which uses the default pickle module implicitly. It is possible to construct malicious pickle data which will execute arbitrary code during unpickling (See https://github.com/pytorch/pytorch/blob/main/SECURITY.md#untrusted-models for more details). In a future release, the default value for `weights_only` will be flipped to `True`. This limits the functions that could be executed during unpickling. Arbitrary objects will no longer be allowed to be loaded via this mode unless they are explicitly allowlisted by the user via `torch.serialization.add_safe_globals`. We recommend you start setting `weights_only=True` for any use case where you don't have full control of the loaded file. Please open an issue on GitHub for any issues related to this experimental feature.\n",
      "  p_tensor = torch.load(directory + 'p.th')\n",
      "/tmp/ipykernel_1904535/3533123915.py:5: FutureWarning: You are using `torch.load` with `weights_only=False` (the current default value), which uses the default pickle module implicitly. It is possible to construct malicious pickle data which will execute arbitrary code during unpickling (See https://github.com/pytorch/pytorch/blob/main/SECURITY.md#untrusted-models for more details). In a future release, the default value for `weights_only` will be flipped to `True`. This limits the functions that could be executed during unpickling. Arbitrary objects will no longer be allowed to be loaded via this mode unless they are explicitly allowlisted by the user via `torch.serialization.add_safe_globals`. We recommend you start setting `weights_only=True` for any use case where you don't have full control of the loaded file. Please open an issue on GitHub for any issues related to this experimental feature.\n",
      "  u_tensor = torch.load(directory + 'u.th')\n",
      "/tmp/ipykernel_1904535/3533123915.py:6: FutureWarning: You are using `torch.load` with `weights_only=False` (the current default value), which uses the default pickle module implicitly. It is possible to construct malicious pickle data which will execute arbitrary code during unpickling (See https://github.com/pytorch/pytorch/blob/main/SECURITY.md#untrusted-models for more details). In a future release, the default value for `weights_only` will be flipped to `True`. This limits the functions that could be executed during unpickling. Arbitrary objects will no longer be allowed to be loaded via this mode unless they are explicitly allowlisted by the user via `torch.serialization.add_safe_globals`. We recommend you start setting `weights_only=True` for any use case where you don't have full control of the loaded file. Please open an issue on GitHub for any issues related to this experimental feature.\n",
      "  v_tensor = torch.load(directory + 'v.th')\n"
     ]
    }
   ],
   "source": [
    "# Load tensor data\n",
    "directory = './data/FFS/preprocessed/DP1_718,18181818181733-0,43636363636363645-0,10181818181818182/'\n",
    "mesh_tensor = torch.load(directory + 'mesh_points.th')\n",
    "p_tensor = torch.load(directory + 'p.th')\n",
    "u_tensor = torch.load(directory + 'u.th')\n",
    "v_tensor = torch.load(directory + 'v.th')\n",
    "\n",
    "# sdf_res32_tensor  = torch.load(directory + 'sdf_res32.th')\n",
    "# sdf_res40_tensor  = torch.load(directory + 'sdf_res40.th')\n",
    "# sdf_res48_tensor  = torch.load(directory + 'sdf_res48.th')\n",
    "# sdf_res64_tensor  = torch.load(directory + 'sdf_res64.th')\n",
    "# sdf_res80_tensor  = torch.load(directory + 'sdf_res80.th')\n",
    "\n",
    "# Add data to dict\n",
    "dataDict = {\n",
    "    'mesh': mesh_tensor,\n",
    "    'p': p_tensor,\n",
    "    'u': u_tensor,\n",
    "    'v': v_tensor,\n",
    "    # 'sdf_res32': sdf_res32_tensor \n",
    "}"
   ]
  },
  {
   "cell_type": "code",
   "execution_count": 43,
   "metadata": {},
   "outputs": [],
   "source": [
    "#Save to matlab format\n",
    "import scipy.io as sio\n",
    "\n",
    "saveDir = './data/FFS/mat/'\n",
    "\n",
    "\n",
    "sio.savemat(saveDir + directory.split('/')[-2] + '.mat', dataDict)"
   ]
  },
  {
   "cell_type": "code",
   "execution_count": null,
   "metadata": {},
   "outputs": [],
   "source": [
    "print(directory.split('/')[-2])"
   ]
  }
 ],
 "metadata": {
  "kernelspec": {
   "display_name": "base",
   "language": "python",
   "name": "python3"
  },
  "language_info": {
   "codemirror_mode": {
    "name": "ipython",
    "version": 3
   },
   "file_extension": ".py",
   "mimetype": "text/x-python",
   "name": "python",
   "nbconvert_exporter": "python",
   "pygments_lexer": "ipython3",
   "version": "3.11.10"
  }
 },
 "nbformat": 4,
 "nbformat_minor": 2
}
