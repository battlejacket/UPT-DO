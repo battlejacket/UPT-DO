{
 "cells": [
  {
   "cell_type": "code",
   "execution_count": 41,
   "metadata": {},
   "outputs": [],
   "source": [
    "import torch\n",
    "import matplotlib.pyplot as plt"
   ]
  },
  {
   "cell_type": "code",
   "execution_count": 42,
   "metadata": {},
   "outputs": [
    {
     "name": "stderr",
     "output_type": "stream",
     "text": [
      "/tmp/ipykernel_1904535/3533123915.py:3: FutureWarning: You are using `torch.load` with `weights_only=False` (the current default value), which uses the default pickle module implicitly. It is possible to construct malicious pickle data which will execute arbitrary code during unpickling (See https://github.com/pytorch/pytorch/blob/main/SECURITY.md#untrusted-models for more details). In a future release, the default value for `weights_only` will be flipped to `True`. This limits the functions that could be executed during unpickling. Arbitrary objects will no longer be allowed to be loaded via this mode unless they are explicitly allowlisted by the user via `torch.serialization.add_safe_globals`. We recommend you start setting `weights_only=True` for any use case where you don't have full control of the loaded file. Please open an issue on GitHub for any issues related to this experimental feature.\n",
      "  mesh_tensor = torch.load(directory + 'mesh_points.th')\n",
      "/tmp/ipykernel_1904535/3533123915.py:4: FutureWarning: You are using `torch.load` with `weights_only=False` (the current default value), which uses the default pickle module implicitly. It is possible to construct malicious pickle data which will execute arbitrary code during unpickling (See https://github.com/pytorch/pytorch/blob/main/SECURITY.md#untrusted-models for more details). In a future release, the default value for `weights_only` will be flipped to `True`. This limits the functions that could be executed during unpickling. Arbitrary objects will no longer be allowed to be loaded via this mode unless they are explicitly allowlisted by the user via `torch.serialization.add_safe_globals`. We recommend you start setting `weights_only=True` for any use case where you don't have full control of the loaded file. Please open an issue on GitHub for any issues related to this experimental feature.\n",
      "  p_tensor = torch.load(directory + 'p.th')\n",
      "/tmp/ipykernel_1904535/3533123915.py:5: FutureWarning: You are using `torch.load` with `weights_only=False` (the current default value), which uses the default pickle module implicitly. It is possible to construct malicious pickle data which will execute arbitrary code during unpickling (See https://github.com/pytorch/pytorch/blob/main/SECURITY.md#untrusted-models for more details). In a future release, the default value for `weights_only` will be flipped to `True`. This limits the functions that could be executed during unpickling. Arbitrary objects will no longer be allowed to be loaded via this mode unless they are explicitly allowlisted by the user via `torch.serialization.add_safe_globals`. We recommend you start setting `weights_only=True` for any use case where you don't have full control of the loaded file. Please open an issue on GitHub for any issues related to this experimental feature.\n",
      "  u_tensor = torch.load(directory + 'u.th')\n",
      "/tmp/ipykernel_1904535/3533123915.py:6: FutureWarning: You are using `torch.load` with `weights_only=False` (the current default value), which uses the default pickle module implicitly. It is possible to construct malicious pickle data which will execute arbitrary code during unpickling (See https://github.com/pytorch/pytorch/blob/main/SECURITY.md#untrusted-models for more details). In a future release, the default value for `weights_only` will be flipped to `True`. This limits the functions that could be executed during unpickling. Arbitrary objects will no longer be allowed to be loaded via this mode unless they are explicitly allowlisted by the user via `torch.serialization.add_safe_globals`. We recommend you start setting `weights_only=True` for any use case where you don't have full control of the loaded file. Please open an issue on GitHub for any issues related to this experimental feature.\n",
      "  v_tensor = torch.load(directory + 'v.th')\n"
     ]
    }
   ],
   "source": [
    "# Load tensor data\n",
    "directory = './data/FFS/preprocessed/DP1_718,18181818181733-0,43636363636363645-0,10181818181818182/'\n",
    "mesh_tensor = torch.load(directory + 'mesh_points.th')\n",
    "p_tensor = torch.load(directory + 'p.th')\n",
    "u_tensor = torch.load(directory + 'u.th')\n",
    "v_tensor = torch.load(directory + 'v.th')\n",
    "\n",
    "# sdf_res32_tensor  = torch.load(directory + 'sdf_res32.th')\n",
    "# sdf_res40_tensor  = torch.load(directory + 'sdf_res40.th')\n",
    "# sdf_res48_tensor  = torch.load(directory + 'sdf_res48.th')\n",
    "# sdf_res64_tensor  = torch.load(directory + 'sdf_res64.th')\n",
    "# sdf_res80_tensor  = torch.load(directory + 'sdf_res80.th')\n",
    "\n",
    "# Add data to dict\n",
    "dataDict = {\n",
    "    'mesh': mesh_tensor,\n",
    "    'p': p_tensor,\n",
    "    'u': u_tensor,\n",
    "    'v': v_tensor,\n",
    "    # 'sdf_res32': sdf_res32_tensor \n",
    "}"
   ]
  },
  {
   "cell_type": "code",
   "execution_count": 55,
   "metadata": {},
   "outputs": [
    {
     "name": "stderr",
     "output_type": "stream",
     "text": [
      "/tmp/ipykernel_1904535/301363701.py:2: FutureWarning: You are using `torch.load` with `weights_only=False` (the current default value), which uses the default pickle module implicitly. It is possible to construct malicious pickle data which will execute arbitrary code during unpickling (See https://github.com/pytorch/pytorch/blob/main/SECURITY.md#untrusted-models for more details). In a future release, the default value for `weights_only` will be flipped to `True`. This limits the functions that could be executed during unpickling. Arbitrary objects will no longer be allowed to be loaded via this mode unless they are explicitly allowlisted by the user via `torch.serialization.add_safe_globals`. We recommend you start setting `weights_only=True` for any use case where you don't have full control of the loaded file. Please open an issue on GitHub for any issues related to this experimental feature.\n",
      "  tensor = torch.load(directory + 'vars_norm.th')\n"
     ]
    }
   ],
   "source": [
    "directory = './data/FFS/preprocessed/'\n",
    "tensor = torch.load(directory + 'vars_norm.th')\n"
   ]
  },
  {
   "cell_type": "code",
   "execution_count": 56,
   "metadata": {},
   "outputs": [
    {
     "data": {
      "text/plain": [
       "{'mean': tensor([ 0.5437, -0.0161,  2.3568]),\n",
       " 'std': tensor([1.0591, 0.0974, 5.4716])}"
      ]
     },
     "execution_count": 56,
     "metadata": {},
     "output_type": "execute_result"
    }
   ],
   "source": [
    "tensor"
   ]
  },
  {
   "cell_type": "code",
   "execution_count": 43,
   "metadata": {},
   "outputs": [],
   "source": [
    "#Save to matlab format\n",
    "import scipy.io as sio\n",
    "\n",
    "saveDir = './data/FFS/mat/'\n",
    "\n",
    "\n",
    "sio.savemat(saveDir + directory.split('/')[-2] + '.mat', dataDict)"
   ]
  },
  {
   "cell_type": "code",
   "execution_count": 57,
   "metadata": {},
   "outputs": [
    {
     "name": "stdout",
     "output_type": "stream",
     "text": [
      "root: data/FFS/preprocessed\n",
      "dirs: ['DP158_752,50000000000011-0,78-0,19', 'DP168_122,5-0,45999999999999996-0,39', 'DP161_707,5-0,22000000000000003-0,25', 'DP171_977,50000000000011-0,58000000000000007-0,45000000000000007', 'DP163_887,50000000000023-0,34-0,29000000000000004', 'DP10_463,63636363636368-0,45818181818181825-0,13454545454545455', 'DP156_437,5-0,26-0,15000000000000002', 'DP173_392,49999999999994-0,30000000000000004-0,4900000000000001', 'DP155_662,5-0,74-0,13', 'DP167_212,5-0,7-0,37', 'DP9_272,72727272727275-0,86545454545454414-0,13090909090909092', 'DP162_302,5-0,54-0,27', 'DP5_999,9999999999975-0,64727272727272711-0,11636363636363636', 'DP6_472,72727272727286-0,48000000000000009-0,12000000000000001', 'DP1_718,18181818181733-0,43636363636363645-0,10181818181818182', 'DP2_1009,0909090909065-0,83636363636363509-0,10545454545454547', 'DP160_257,5-0,9800000000000002-0,22999999999999998', 'DP4_1036,3636363636338-0,734545454545454-0,11272727272727273', 'DP8_63,636363636363633-0,37090909090909097-0,12727272727272729', 'DP172_842,50000000000011-0,42000000000000004-0,47000000000000008', 'DP166_797,50000000000011-0,94000000000000017-0,35', 'DP170_572,5-0,8600000000000001-0,43000000000000005', 'DP164_167,5-0,61999999999999988-0,30999999999999994', 'DP159_932,50000000000023-0,65999999999999992-0,21000000000000002', 'DP169_527,5-0,82000000000000006-0,41000000000000003', 'DP154_482,49999999999994-0,38-0,11000000000000001', 'DP157_617,5-0,90000000000000013-0,17', 'DP165_347,5-0,5-0,32999999999999996', 'DP3_936,36363636363421-0,56-0,1090909090909091', 'DP7_90,9090909090909-0,56727272727272737-0,12363636363636364']\n",
      "files: ['coords_norm.th', 'vars_norm.th']\n",
      "root: data/FFS/preprocessed/DP158_752,50000000000011-0,78-0,19\n",
      "dirs: []\n",
      "files: ['p.th', 'u.th', 'mesh_points.th', 'v.th']\n",
      "root: data/FFS/preprocessed/DP168_122,5-0,45999999999999996-0,39\n",
      "dirs: []\n",
      "files: ['p.th', 'u.th', 'mesh_points.th', 'v.th']\n",
      "root: data/FFS/preprocessed/DP161_707,5-0,22000000000000003-0,25\n",
      "dirs: []\n",
      "files: ['p.th', 'u.th', 'mesh_points.th', 'v.th']\n",
      "root: data/FFS/preprocessed/DP171_977,50000000000011-0,58000000000000007-0,45000000000000007\n",
      "dirs: []\n",
      "files: ['p.th', 'u.th', 'mesh_points.th', 'v.th']\n",
      "root: data/FFS/preprocessed/DP163_887,50000000000023-0,34-0,29000000000000004\n",
      "dirs: []\n",
      "files: ['p.th', 'u.th', 'mesh_points.th', 'v.th']\n",
      "root: data/FFS/preprocessed/DP10_463,63636363636368-0,45818181818181825-0,13454545454545455\n",
      "dirs: []\n",
      "files: ['p.th', 'u.th', 'mesh_points.th', 'v.th']\n",
      "root: data/FFS/preprocessed/DP156_437,5-0,26-0,15000000000000002\n",
      "dirs: []\n",
      "files: ['p.th', 'u.th', 'mesh_points.th', 'v.th']\n",
      "root: data/FFS/preprocessed/DP173_392,49999999999994-0,30000000000000004-0,4900000000000001\n",
      "dirs: []\n",
      "files: ['p.th', 'u.th', 'mesh_points.th', 'v.th']\n",
      "root: data/FFS/preprocessed/DP155_662,5-0,74-0,13\n",
      "dirs: []\n",
      "files: ['p.th', 'u.th', 'mesh_points.th', 'v.th']\n",
      "root: data/FFS/preprocessed/DP167_212,5-0,7-0,37\n",
      "dirs: []\n",
      "files: ['p.th', 'u.th', 'mesh_points.th', 'v.th']\n",
      "root: data/FFS/preprocessed/DP9_272,72727272727275-0,86545454545454414-0,13090909090909092\n",
      "dirs: []\n",
      "files: ['p.th', 'u.th', 'mesh_points.th', 'v.th']\n",
      "root: data/FFS/preprocessed/DP162_302,5-0,54-0,27\n",
      "dirs: []\n",
      "files: ['p.th', 'u.th', 'mesh_points.th', 'v.th']\n",
      "root: data/FFS/preprocessed/DP5_999,9999999999975-0,64727272727272711-0,11636363636363636\n",
      "dirs: []\n",
      "files: ['p.th', 'u.th', 'mesh_points.th', 'v.th']\n",
      "root: data/FFS/preprocessed/DP6_472,72727272727286-0,48000000000000009-0,12000000000000001\n",
      "dirs: []\n",
      "files: ['p.th', 'u.th', 'mesh_points.th', 'v.th']\n",
      "root: data/FFS/preprocessed/DP1_718,18181818181733-0,43636363636363645-0,10181818181818182\n",
      "dirs: []\n",
      "files: ['p.th', 'u.th', 'mesh_points.th', 'v.th']\n",
      "root: data/FFS/preprocessed/DP2_1009,0909090909065-0,83636363636363509-0,10545454545454547\n",
      "dirs: []\n",
      "files: ['p.th', 'u.th', 'mesh_points.th', 'v.th']\n",
      "root: data/FFS/preprocessed/DP160_257,5-0,9800000000000002-0,22999999999999998\n",
      "dirs: []\n",
      "files: ['p.th', 'u.th', 'mesh_points.th', 'v.th']\n",
      "root: data/FFS/preprocessed/DP4_1036,3636363636338-0,734545454545454-0,11272727272727273\n",
      "dirs: []\n",
      "files: ['p.th', 'u.th', 'mesh_points.th', 'v.th']\n",
      "root: data/FFS/preprocessed/DP8_63,636363636363633-0,37090909090909097-0,12727272727272729\n",
      "dirs: []\n",
      "files: ['p.th', 'u.th', 'mesh_points.th', 'v.th']\n",
      "root: data/FFS/preprocessed/DP172_842,50000000000011-0,42000000000000004-0,47000000000000008\n",
      "dirs: []\n",
      "files: ['p.th', 'u.th', 'mesh_points.th', 'v.th']\n",
      "root: data/FFS/preprocessed/DP166_797,50000000000011-0,94000000000000017-0,35\n",
      "dirs: []\n",
      "files: ['p.th', 'u.th', 'mesh_points.th', 'v.th']\n",
      "root: data/FFS/preprocessed/DP170_572,5-0,8600000000000001-0,43000000000000005\n",
      "dirs: []\n",
      "files: ['p.th', 'u.th', 'mesh_points.th', 'v.th']\n",
      "root: data/FFS/preprocessed/DP164_167,5-0,61999999999999988-0,30999999999999994\n",
      "dirs: []\n",
      "files: ['p.th', 'u.th', 'mesh_points.th', 'v.th']\n",
      "root: data/FFS/preprocessed/DP159_932,50000000000023-0,65999999999999992-0,21000000000000002\n",
      "dirs: []\n",
      "files: ['p.th', 'u.th', 'mesh_points.th', 'v.th']\n",
      "root: data/FFS/preprocessed/DP169_527,5-0,82000000000000006-0,41000000000000003\n",
      "dirs: []\n",
      "files: ['p.th', 'u.th', 'mesh_points.th', 'v.th']\n",
      "root: data/FFS/preprocessed/DP154_482,49999999999994-0,38-0,11000000000000001\n",
      "dirs: []\n",
      "files: ['p.th', 'u.th', 'mesh_points.th', 'v.th']\n",
      "root: data/FFS/preprocessed/DP157_617,5-0,90000000000000013-0,17\n",
      "dirs: []\n",
      "files: ['p.th', 'u.th', 'mesh_points.th', 'v.th']\n",
      "root: data/FFS/preprocessed/DP165_347,5-0,5-0,32999999999999996\n",
      "dirs: []\n",
      "files: ['p.th', 'u.th', 'mesh_points.th', 'v.th']\n",
      "root: data/FFS/preprocessed/DP3_936,36363636363421-0,56-0,1090909090909091\n",
      "dirs: []\n",
      "files: ['p.th', 'u.th', 'mesh_points.th', 'v.th']\n",
      "root: data/FFS/preprocessed/DP7_90,9090909090909-0,56727272727272737-0,12363636363636364\n",
      "dirs: []\n",
      "files: ['p.th', 'u.th', 'mesh_points.th', 'v.th']\n",
      "found 0 samples\n"
     ]
    }
   ],
   "source": [
    "from pathlib import Path\n",
    "import os\n",
    "source_root = Path('./data/FFS/preprocessed/')\n",
    "uris = []\n",
    "for root, dirs, files in os.walk(source_root):\n",
    "    print(f\"root: {root}\")\n",
    "    print(f\"dirs: {dirs}\")\n",
    "    print(f\"files: {files}\")\n",
    "    \n",
    "    # for file in files:\n",
    "    #     filePath = Path(os.path.join(root, file))\n",
    "    #     uris.append(filePath)\n",
    "uris.sort()\n",
    "print(f\"found {len(uris)} samples\")"
   ]
  },
  {
   "cell_type": "code",
   "execution_count": null,
   "metadata": {},
   "outputs": [
    {
     "ename": "TypeError",
     "evalue": "'NoneType' object is not subscriptable",
     "output_type": "error",
     "traceback": [
      "\u001b[0;31m---------------------------------------------------------------------------\u001b[0m",
      "\u001b[0;31mTypeError\u001b[0m                                 Traceback (most recent call last)",
      "Cell \u001b[0;32mIn[62], line 10\u001b[0m\n\u001b[1;32m      7\u001b[0m urisS \u001b[38;5;241m=\u001b[39m uris\u001b[38;5;241m.\u001b[39msort()\n\u001b[1;32m      9\u001b[0m \u001b[38;5;28;01mfor\u001b[39;00m i \u001b[38;5;129;01min\u001b[39;00m \u001b[38;5;28mrange\u001b[39m(\u001b[38;5;28mlen\u001b[39m(uris)):\n\u001b[0;32m---> 10\u001b[0m     \u001b[38;5;28;01mif\u001b[39;00m uris[i] \u001b[38;5;241m!=\u001b[39m \u001b[43murisS\u001b[49m\u001b[43m[\u001b[49m\u001b[43mi\u001b[49m\u001b[43m]\u001b[49m:\n\u001b[1;32m     11\u001b[0m         \u001b[38;5;28mprint\u001b[39m(\u001b[38;5;124mf\u001b[39m\u001b[38;5;124m\"\u001b[39m\u001b[38;5;132;01m{\u001b[39;00mi\u001b[38;5;132;01m}\u001b[39;00m\u001b[38;5;124m: ns \u001b[39m\u001b[38;5;132;01m{\u001b[39;00muris[i]\u001b[38;5;132;01m}\u001b[39;00m\u001b[38;5;124m: s \u001b[39m\u001b[38;5;132;01m{\u001b[39;00murisS[i]\u001b[38;5;132;01m}\u001b[39;00m\u001b[38;5;124m\"\u001b[39m)\n",
      "\u001b[0;31mTypeError\u001b[0m: 'NoneType' object is not subscriptable"
     ]
    }
   ],
   "source": [
    "uris = []\n",
    "\n",
    "for name in sorted(os.listdir(source_root)):\n",
    "    sampleDir = source_root / name\n",
    "    if sampleDir.is_dir():\n",
    "        uris.append(sampleDir)\n",
    "urisS = uris\n",
    "urisS.sort()\n",
    "\n",
    "for i in range(len(uris)):\n",
    "    if uris[i] != urisS[i]:\n",
    "        print(f\"{i}: ns {uris[i]}: s {urisS[i]}\")\n"
   ]
  }
 ],
 "metadata": {
  "kernelspec": {
   "display_name": "base",
   "language": "python",
   "name": "python3"
  },
  "language_info": {
   "codemirror_mode": {
    "name": "ipython",
    "version": 3
   },
   "file_extension": ".py",
   "mimetype": "text/x-python",
   "name": "python",
   "nbconvert_exporter": "python",
   "pygments_lexer": "ipython3",
   "version": "3.11.10"
  }
 },
 "nbformat": 4,
 "nbformat_minor": 2
}
